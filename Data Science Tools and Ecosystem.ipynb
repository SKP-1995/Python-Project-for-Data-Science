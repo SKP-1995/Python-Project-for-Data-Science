{
 "cells": [
  {
   "cell_type": "markdown",
   "id": "a986b1bd",
   "metadata": {},
   "source": [
    "# Data Science Tools and Ecosystem"
   ]
  },
  {
   "cell_type": "markdown",
   "id": "3c296f2f",
   "metadata": {},
   "source": [
    "In this notebook, Data Science Tools and Ecosystem are summarized"
   ]
  },
  {
   "cell_type": "markdown",
   "id": "4c2e75e5",
   "metadata": {},
   "source": [
    "## Objectives :\n",
    "    \n",
    "       1. List the popular data science languages\n",
    "       2. List the popular data science libraries\n",
    "       3. List the popular data science tools\n",
    "       4. List down a few arithmatic examples"
   ]
  },
  {
   "cell_type": "markdown",
   "id": "66e99c04",
   "metadata": {},
   "source": [
    "Some of the popular languages that Data Scientists use are:\n",
    "    \n",
    "    1. Julia\n",
    "    2. Python\n",
    "    3. R\n",
    "    4. Scala"
   ]
  },
  {
   "cell_type": "markdown",
   "id": "97e90071",
   "metadata": {},
   "source": [
    "Some of the commonly used libraries used by Data Scientists include:\n",
    "\n",
    "    1. caret\n",
    "    2. ggplot\n",
    "    3. numpy\n",
    "    4. pandas\n",
    "    5. vegas"
   ]
  },
  {
   "cell_type": "markdown",
   "id": "3ddbfe1f",
   "metadata": {},
   "source": [
    "|Data Science Tools|\n",
    "|------------------|\n",
    "|Matplotlib|\n",
    "|Apache Spark|\n",
    "|KNIME|"
   ]
  },
  {
   "cell_type": "markdown",
   "id": "bbabd0c2",
   "metadata": {},
   "source": [
    "### Below are a few examples of evaluating arithmetic expressions in Python"
   ]
  },
  {
   "cell_type": "code",
   "execution_count": 16,
   "id": "eb68581c",
   "metadata": {},
   "outputs": [
    {
     "data": {
      "text/plain": [
       "17"
      ]
     },
     "execution_count": 16,
     "metadata": {},
     "output_type": "execute_result"
    }
   ],
   "source": [
    "##This is a simple arithmetic expression to multiply then add integers\n",
    "a=(3*4)+5\n",
    "a"
   ]
  },
  {
   "cell_type": "code",
   "execution_count": 17,
   "id": "3c66862a",
   "metadata": {},
   "outputs": [
    {
     "data": {
      "text/plain": [
       "3.3333333333333335"
      ]
     },
     "execution_count": 17,
     "metadata": {},
     "output_type": "execute_result"
    }
   ],
   "source": [
    "##This will convert 200 minutes to hours by dividing by 60.\n",
    "mint=200\n",
    "hrs=(mint/60)\n",
    "hrs"
   ]
  },
  {
   "cell_type": "markdown",
   "id": "241c00ed",
   "metadata": {},
   "source": [
    "## Author's Name :- \n",
    "Sujit Kumar Pradhan "
   ]
  }
 ],
 "metadata": {
  "kernelspec": {
   "display_name": "Python 3 (ipykernel)",
   "language": "python",
   "name": "python3"
  },
  "language_info": {
   "codemirror_mode": {
    "name": "ipython",
    "version": 3
   },
   "file_extension": ".py",
   "mimetype": "text/x-python",
   "name": "python",
   "nbconvert_exporter": "python",
   "pygments_lexer": "ipython3",
   "version": "3.10.9"
  }
 },
 "nbformat": 4,
 "nbformat_minor": 5
}
